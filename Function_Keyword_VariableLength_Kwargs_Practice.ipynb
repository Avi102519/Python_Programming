{
 "cells": [
  {
   "cell_type": "markdown",
   "id": "7835fa9b",
   "metadata": {},
   "source": [
    "# Keyword Argument"
   ]
  },
  {
   "cell_type": "code",
   "execution_count": 1,
   "id": "9100022b",
   "metadata": {},
   "outputs": [
    {
     "name": "stdout",
     "output_type": "stream",
     "text": [
      "nit\n",
      "3\n"
     ]
    }
   ],
   "source": [
    "def person(name,age):\n",
    "    print (name)\n",
    "    print (age-5)\n",
    "person(name='nit',age=8)\n"
   ]
  },
  {
   "cell_type": "code",
   "execution_count": 2,
   "id": "60aed347",
   "metadata": {},
   "outputs": [
    {
     "ename": "TypeError",
     "evalue": "person() missing 1 required positional argument: 'mob'",
     "output_type": "error",
     "traceback": [
      "\u001b[0;31m---------------------------------------------------------------------------\u001b[0m",
      "\u001b[0;31mTypeError\u001b[0m                                 Traceback (most recent call last)",
      "Cell \u001b[0;32mIn[2], line 5\u001b[0m\n\u001b[1;32m      3\u001b[0m     \u001b[38;5;28mprint\u001b[39m(age\u001b[38;5;241m-\u001b[39m\u001b[38;5;241m3\u001b[39m)\n\u001b[1;32m      4\u001b[0m     \u001b[38;5;28mprint\u001b[39m(mob)\n\u001b[0;32m----> 5\u001b[0m person(name\u001b[38;5;241m=\u001b[39m\u001b[38;5;124m'\u001b[39m\u001b[38;5;124mnit\u001b[39m\u001b[38;5;124m'\u001b[39m,age \u001b[38;5;241m=\u001b[39m \u001b[38;5;241m11\u001b[39m)\n",
      "\u001b[0;31mTypeError\u001b[0m: person() missing 1 required positional argument: 'mob'"
     ]
    }
   ],
   "source": [
    "def person(name,age,mob):\n",
    "    print(name)\n",
    "    print(age-3)\n",
    "    print(mob)\n",
    "person(name='nit',age = 11)"
   ]
  },
  {
   "cell_type": "code",
   "execution_count": 3,
   "id": "0a5fcbb0",
   "metadata": {},
   "outputs": [
    {
     "name": "stdout",
     "output_type": "stream",
     "text": [
      "nit\n",
      "5\n",
      "101\n"
     ]
    }
   ],
   "source": [
    "def person(name,age,mob):\n",
    "    print(name)\n",
    "    print(age-1)\n",
    "    print(mob)\n",
    "person('nit',age=6,mob=101)"
   ]
  },
  {
   "cell_type": "code",
   "execution_count": 4,
   "id": "7dfbfe63",
   "metadata": {},
   "outputs": [
    {
     "name": "stdout",
     "output_type": "stream",
     "text": [
      "nit\n",
      "18\n"
     ]
    }
   ],
   "source": [
    "def person(name,age=18):\n",
    "    print(name)\n",
    "    print(age)\n",
    "person('nit')"
   ]
  },
  {
   "cell_type": "code",
   "execution_count": 5,
   "id": "c7abe3e6",
   "metadata": {},
   "outputs": [
    {
     "name": "stdout",
     "output_type": "stream",
     "text": [
      "nit\n",
      "40\n"
     ]
    }
   ],
   "source": [
    "def person(name,age=18):\n",
    "    print(name)\n",
    "    print(age)\n",
    "person('nit',40)"
   ]
  },
  {
   "cell_type": "markdown",
   "id": "c1d07485",
   "metadata": {},
   "source": [
    "# Variable Length Argument"
   ]
  },
  {
   "cell_type": "code",
   "execution_count": 6,
   "id": "217d14b6",
   "metadata": {},
   "outputs": [
    {
     "ename": "TypeError",
     "evalue": "person() takes 2 positional arguments but 5 were given",
     "output_type": "error",
     "traceback": [
      "\u001b[0;31m---------------------------------------------------------------------------\u001b[0m",
      "\u001b[0;31mTypeError\u001b[0m                                 Traceback (most recent call last)",
      "Cell \u001b[0;32mIn[6], line 4\u001b[0m\n\u001b[1;32m      2\u001b[0m     \u001b[38;5;28mprint\u001b[39m(name)\n\u001b[1;32m      3\u001b[0m     \u001b[38;5;28mprint\u001b[39m(age)\n\u001b[0;32m----> 4\u001b[0m person(\u001b[38;5;124m'\u001b[39m\u001b[38;5;124mnit\u001b[39m\u001b[38;5;124m'\u001b[39m,\u001b[38;5;241m40\u001b[39m,\u001b[38;5;241m50\u001b[39m,\u001b[38;5;241m60\u001b[39m,\u001b[38;5;241m70\u001b[39m)\n",
      "\u001b[0;31mTypeError\u001b[0m: person() takes 2 positional arguments but 5 were given"
     ]
    }
   ],
   "source": [
    "def person(name,age):\n",
    "    print(name)\n",
    "    print(age)\n",
    "person('nit',40,50,60,70)"
   ]
  },
  {
   "cell_type": "code",
   "execution_count": 7,
   "id": "1cebcf1a",
   "metadata": {},
   "outputs": [
    {
     "name": "stdout",
     "output_type": "stream",
     "text": [
      "nit\n",
      "(40, 50, 60, 70)\n"
     ]
    }
   ],
   "source": [
    "def person(name,*age):\n",
    "    print(name)\n",
    "    print(age)\n",
    "person('nit',40,50,60,70)"
   ]
  },
  {
   "cell_type": "code",
   "execution_count": 8,
   "id": "daf1f161",
   "metadata": {},
   "outputs": [
    {
     "name": "stdout",
     "output_type": "stream",
     "text": [
      "<class 'str'>\n",
      "<class 'tuple'>\n"
     ]
    }
   ],
   "source": [
    "def person(name,*age):\n",
    "    print(type(name))\n",
    "    print(type(age))\n",
    "person('nit',40,50,60,70)"
   ]
  },
  {
   "cell_type": "code",
   "execution_count": 9,
   "id": "3630c239",
   "metadata": {},
   "outputs": [
    {
     "ename": "TypeError",
     "evalue": "sum() takes 2 positional arguments but 4 were given",
     "output_type": "error",
     "traceback": [
      "\u001b[0;31m---------------------------------------------------------------------------\u001b[0m",
      "\u001b[0;31mTypeError\u001b[0m                                 Traceback (most recent call last)",
      "Cell \u001b[0;32mIn[9], line 4\u001b[0m\n\u001b[1;32m      2\u001b[0m     c\u001b[38;5;241m=\u001b[39ma\u001b[38;5;241m+\u001b[39mb\n\u001b[1;32m      3\u001b[0m     \u001b[38;5;28mprint\u001b[39m(c)\n\u001b[0;32m----> 4\u001b[0m \u001b[38;5;28msum\u001b[39m(\u001b[38;5;241m5\u001b[39m,\u001b[38;5;241m6\u001b[39m,\u001b[38;5;241m7\u001b[39m,\u001b[38;5;241m8\u001b[39m)\n",
      "\u001b[0;31mTypeError\u001b[0m: sum() takes 2 positional arguments but 4 were given"
     ]
    }
   ],
   "source": [
    "def sum(a,b):\n",
    "    c=a+b\n",
    "    print(c)\n",
    "sum(5,6,7,8)"
   ]
  },
  {
   "cell_type": "code",
   "execution_count": 10,
   "id": "ee5af669",
   "metadata": {},
   "outputs": [
    {
     "ename": "TypeError",
     "evalue": "unsupported operand type(s) for +: 'int' and 'tuple'",
     "output_type": "error",
     "traceback": [
      "\u001b[0;31m---------------------------------------------------------------------------\u001b[0m",
      "\u001b[0;31mTypeError\u001b[0m                                 Traceback (most recent call last)",
      "Cell \u001b[0;32mIn[10], line 4\u001b[0m\n\u001b[1;32m      2\u001b[0m     c\u001b[38;5;241m=\u001b[39ma\u001b[38;5;241m+\u001b[39mb\n\u001b[1;32m      3\u001b[0m     \u001b[38;5;28mprint\u001b[39m(c)\n\u001b[0;32m----> 4\u001b[0m \u001b[38;5;28msum\u001b[39m(\u001b[38;5;241m5\u001b[39m,\u001b[38;5;241m6\u001b[39m,\u001b[38;5;241m7\u001b[39m,\u001b[38;5;241m8\u001b[39m,\u001b[38;5;241m9\u001b[39m)\n",
      "Cell \u001b[0;32mIn[10], line 2\u001b[0m, in \u001b[0;36msum\u001b[0;34m(a, *b)\u001b[0m\n\u001b[1;32m      1\u001b[0m \u001b[38;5;28;01mdef\u001b[39;00m \u001b[38;5;21msum\u001b[39m(a,\u001b[38;5;241m*\u001b[39mb):\n\u001b[0;32m----> 2\u001b[0m     c\u001b[38;5;241m=\u001b[39ma\u001b[38;5;241m+\u001b[39mb\n\u001b[1;32m      3\u001b[0m     \u001b[38;5;28mprint\u001b[39m(c)\n",
      "\u001b[0;31mTypeError\u001b[0m: unsupported operand type(s) for +: 'int' and 'tuple'"
     ]
    }
   ],
   "source": [
    "def sum(a,*b):\n",
    "    c=a+b\n",
    "    print(c)\n",
    "sum(5,6,7,8,9)"
   ]
  },
  {
   "cell_type": "code",
   "execution_count": 12,
   "id": "4cd9dedd",
   "metadata": {},
   "outputs": [
    {
     "name": "stdout",
     "output_type": "stream",
     "text": [
      "<class 'int'>\n",
      "<class 'tuple'>\n"
     ]
    }
   ],
   "source": [
    "def sum(a,*b): #First argument is fixed but second argument is variable\n",
    "    #c=a+b\n",
    "    print(type(a))\n",
    "    print(type(b))\n",
    "sum(5,6,7,8)\n",
    "    "
   ]
  },
  {
   "cell_type": "code",
   "execution_count": 14,
   "id": "bede211a",
   "metadata": {},
   "outputs": [
    {
     "name": "stdout",
     "output_type": "stream",
     "text": [
      "60\n"
     ]
    }
   ],
   "source": [
    "def sum(a,*b):\n",
    "    for i in b:\n",
    "        a= a+i\n",
    "    print(a)\n",
    "sum(10,5,10,5,10,5,10,5)\n",
    "        "
   ]
  },
  {
   "cell_type": "markdown",
   "id": "59d5d0df",
   "metadata": {},
   "source": [
    "# Kwargs(Keyword argument + variable length argument)"
   ]
  },
  {
   "cell_type": "code",
   "execution_count": 15,
   "id": "41f04d77",
   "metadata": {},
   "outputs": [
    {
     "name": "stdout",
     "output_type": "stream",
     "text": [
      "nit\n",
      "(36, 'FSDS', 889911)\n"
     ]
    }
   ],
   "source": [
    "def person(name,*data):\n",
    "    print(name)\n",
    "    print(data)\n",
    "person('nit',36,'FSDS',889911)"
   ]
  },
  {
   "cell_type": "code",
   "execution_count": 16,
   "id": "1239902c",
   "metadata": {},
   "outputs": [
    {
     "ename": "TypeError",
     "evalue": "person() got an unexpected keyword argument 'age'",
     "output_type": "error",
     "traceback": [
      "\u001b[0;31m---------------------------------------------------------------------------\u001b[0m",
      "\u001b[0;31mTypeError\u001b[0m                                 Traceback (most recent call last)",
      "Cell \u001b[0;32mIn[16], line 4\u001b[0m\n\u001b[1;32m      2\u001b[0m     \u001b[38;5;28mprint\u001b[39m(name)\n\u001b[1;32m      3\u001b[0m     \u001b[38;5;28mprint\u001b[39m(data)\n\u001b[0;32m----> 4\u001b[0m person(\u001b[38;5;124m'\u001b[39m\u001b[38;5;124mnit\u001b[39m\u001b[38;5;124m'\u001b[39m,age \u001b[38;5;241m=\u001b[39m\u001b[38;5;241m36\u001b[39m,course \u001b[38;5;241m=\u001b[39m\u001b[38;5;124m'\u001b[39m\u001b[38;5;124mFSDS\u001b[39m\u001b[38;5;124m'\u001b[39m,mob \u001b[38;5;241m=\u001b[39m\u001b[38;5;241m889911\u001b[39m)\n",
      "\u001b[0;31mTypeError\u001b[0m: person() got an unexpected keyword argument 'age'"
     ]
    }
   ],
   "source": [
    "def person(name,*data):\n",
    "    print(name)\n",
    "    print(data)\n",
    "person('nit',age =36,course ='FSDS',mob =889911)"
   ]
  },
  {
   "cell_type": "code",
   "execution_count": 17,
   "id": "f2c2aaf3",
   "metadata": {},
   "outputs": [
    {
     "name": "stdout",
     "output_type": "stream",
     "text": [
      "nit\n",
      "{'age': 36, 'course': 'FSDS', 'mob': 889911}\n"
     ]
    }
   ],
   "source": [
    "def person(name,**data): #inorder to handle keyword argument error we add other *\n",
    "    print(name)\n",
    "    print(data)\n",
    "person('nit',age =36,course ='FSDS',mob =889911)"
   ]
  },
  {
   "cell_type": "markdown",
   "id": "9c836e2f",
   "metadata": {},
   "source": [
    "# Local variable vs Global Variable"
   ]
  },
  {
   "cell_type": "code",
   "execution_count": 18,
   "id": "e7905534",
   "metadata": {},
   "outputs": [
    {
     "name": "stdout",
     "output_type": "stream",
     "text": [
      "10\n"
     ]
    }
   ],
   "source": [
    "a=10\n",
    "print(a)"
   ]
  },
  {
   "cell_type": "code",
   "execution_count": 19,
   "id": "1c5086af",
   "metadata": {},
   "outputs": [],
   "source": [
    "a=10 #Global Variable\n",
    "\n",
    "def something():\n",
    "    b=15 # local variable\n",
    "    print('in function',b)\n",
    "    print('out function',a)\n",
    "    "
   ]
  },
  {
   "cell_type": "code",
   "execution_count": 20,
   "id": "fa62ff6c",
   "metadata": {},
   "outputs": [
    {
     "name": "stdout",
     "output_type": "stream",
     "text": [
      "out function 10\n"
     ]
    }
   ],
   "source": [
    "a=10 #Global Variable\n",
    "\n",
    "def something():\n",
    "    b=15 # local variable\n",
    "    print('in function',b)\n",
    "print('out function',a)"
   ]
  },
  {
   "cell_type": "code",
   "execution_count": 21,
   "id": "fc0cc3dd",
   "metadata": {},
   "outputs": [
    {
     "name": "stdout",
     "output_type": "stream",
     "text": [
      "in function 15\n",
      "out function 10\n"
     ]
    }
   ],
   "source": [
    "a=10 #Global Variable\n",
    "\n",
    "def something():\n",
    "    b=15 # local variable\n",
    "    print('in function',b)\n",
    "something()\n",
    "print('out function',a)"
   ]
  },
  {
   "cell_type": "code",
   "execution_count": 22,
   "id": "7ce8e112",
   "metadata": {},
   "outputs": [
    {
     "name": "stdout",
     "output_type": "stream",
     "text": [
      "in function 10\n",
      "out function 10\n"
     ]
    }
   ],
   "source": [
    "a = 10  \n",
    "\n",
    "def something():\n",
    "    a = 15\n",
    "    \n",
    "print('in function',a) \n",
    "  \n",
    "print('out function',a)"
   ]
  },
  {
   "cell_type": "code",
   "execution_count": null,
   "id": "84723e8d",
   "metadata": {},
   "outputs": [],
   "source": [
    "wqa"
   ]
  }
 ],
 "metadata": {
  "kernelspec": {
   "display_name": "Python (myenv)",
   "language": "python",
   "name": "myenv"
  },
  "language_info": {
   "codemirror_mode": {
    "name": "ipython",
    "version": 3
   },
   "file_extension": ".py",
   "mimetype": "text/x-python",
   "name": "python",
   "nbconvert_exporter": "python",
   "pygments_lexer": "ipython3",
   "version": "3.11.5"
  }
 },
 "nbformat": 4,
 "nbformat_minor": 5
}
